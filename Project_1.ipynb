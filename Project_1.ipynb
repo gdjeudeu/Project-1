{
 "cells": [
  {
   "cell_type": "code",
   "execution_count": 214,
   "metadata": {},
   "outputs": [],
   "source": [
    "import numpy as np\n",
    "import matplotlib.pyplot as plt\n",
    "import pandas as pd\n",
    "import requests\n",
    "import time\n",
    "import json\n",
    "import scipy.stats as st"
   ]
  },
  {
   "cell_type": "code",
   "execution_count": 215,
   "metadata": {},
   "outputs": [],
   "source": [
    "player_list = ['Michael Jordan', 'Kobe Bryant', 'Lebron James', 'Magic Johnson', 'Larry Bird', 'Bill Russell', \n",
    "               'Wilt Chamberlain', 'Kareem Abdul-Jabbar', \"Shaquille O'Neal\", 'Stephen Curry' ]"
   ]
  },
  {
   "cell_type": "code",
   "execution_count": 216,
   "metadata": {},
   "outputs": [],
   "source": [
    "#define the cleaning functions\n",
    "\n",
    "#this function takes the 1 row career stats df from the csv and prepares it for merging\n",
    "def career_cleaner(df, name):\n",
    "    df = df.reset_index(drop = True)\n",
    "    df = df.rename(index = {0 : name})\n",
    "    df = df.transpose()\n",
    "    df.index.name = \"Stats\"\n",
    "    return df"
   ]
  },
  {
   "cell_type": "code",
   "execution_count": 232,
   "metadata": {},
   "outputs": [],
   "source": [
    "#import data sets and save the career stats line in each players' df\n",
    "jordan_career = pd.read_csv(r\"csv_files/sportsref_download.csv\")\n",
    "jordan_career = jordan_career.iloc[[-4], ]\n",
    "\n",
    "kobe_career = pd.read_csv(r\"csv_files/sportsref_download (1).csv\")\n",
    "kobe_career = kobe_career.iloc[[-1], ]\n",
    "\n",
    "magic_career = pd.read_csv(r\"csv_files/sportsref_download (2).csv\")\n",
    "magic_career = magic_career.iloc[[-5], ]"
   ]
  },
  {
   "cell_type": "code",
   "execution_count": 218,
   "metadata": {},
   "outputs": [],
   "source": [
    "#clean functions for merging\n",
    "jordan_career = career_cleaner(jordan_career, \"Jordan\")\n",
    "kobe_career = career_cleaner(kobe_career, \"Kobe\")\n",
    "magic_career = career_cleaner(magic_career, \"Magic\")"
   ]
  },
  {
   "cell_type": "code",
   "execution_count": 219,
   "metadata": {},
   "outputs": [],
   "source": [
    "#merge all career data together\n",
    "vert_df = jordan_career.merge(kobe_career, on = \"Stats\")\n",
    "vert_df = vert_df.merge(magic_career, on = \"Stats\")"
   ]
  },
  {
   "cell_type": "code",
   "execution_count": 220,
   "metadata": {},
   "outputs": [
    {
     "data": {
      "text/html": [
       "<div>\n",
       "<style scoped>\n",
       "    .dataframe tbody tr th:only-of-type {\n",
       "        vertical-align: middle;\n",
       "    }\n",
       "\n",
       "    .dataframe tbody tr th {\n",
       "        vertical-align: top;\n",
       "    }\n",
       "\n",
       "    .dataframe thead th {\n",
       "        text-align: right;\n",
       "    }\n",
       "</style>\n",
       "<table border=\"1\" class=\"dataframe\">\n",
       "  <thead>\n",
       "    <tr style=\"text-align: right;\">\n",
       "      <th>Stats</th>\n",
       "      <th>Season</th>\n",
       "      <th>G</th>\n",
       "      <th>GS</th>\n",
       "      <th>FG%</th>\n",
       "      <th>TRB</th>\n",
       "      <th>AST</th>\n",
       "      <th>STL</th>\n",
       "      <th>BLK</th>\n",
       "      <th>PTS</th>\n",
       "    </tr>\n",
       "  </thead>\n",
       "  <tbody>\n",
       "    <tr>\n",
       "      <th>Jordan</th>\n",
       "      <td>Career</td>\n",
       "      <td>1072</td>\n",
       "      <td>1039</td>\n",
       "      <td>0.497</td>\n",
       "      <td>6.2</td>\n",
       "      <td>5.3</td>\n",
       "      <td>2.3</td>\n",
       "      <td>0.8</td>\n",
       "      <td>30.1</td>\n",
       "    </tr>\n",
       "    <tr>\n",
       "      <th>Kobe</th>\n",
       "      <td>Career</td>\n",
       "      <td>1346</td>\n",
       "      <td>1198</td>\n",
       "      <td>0.447</td>\n",
       "      <td>5.2</td>\n",
       "      <td>4.7</td>\n",
       "      <td>1.4</td>\n",
       "      <td>0.5</td>\n",
       "      <td>25</td>\n",
       "    </tr>\n",
       "    <tr>\n",
       "      <th>Magic</th>\n",
       "      <td>Career</td>\n",
       "      <td>1258</td>\n",
       "      <td>1257</td>\n",
       "      <td>0.504</td>\n",
       "      <td>7.4</td>\n",
       "      <td>7.4</td>\n",
       "      <td>1.6</td>\n",
       "      <td>0.8</td>\n",
       "      <td>27.1</td>\n",
       "    </tr>\n",
       "  </tbody>\n",
       "</table>\n",
       "</div>"
      ],
      "text/plain": [
       "Stats   Season     G    GS    FG%  TRB  AST  STL  BLK   PTS\n",
       "Jordan  Career  1072  1039  0.497  6.2  5.3  2.3  0.8  30.1\n",
       "Kobe    Career  1346  1198  0.447  5.2  4.7  1.4  0.5    25\n",
       "Magic   Career  1258  1257  0.504  7.4  7.4  1.6  0.8  27.1"
      ]
     },
     "execution_count": 220,
     "metadata": {},
     "output_type": "execute_result"
    }
   ],
   "source": [
    "#organize the df to have player names as indexes and stats as columns\n",
    "vert_df = vert_df.transpose()\n",
    "\n",
    "#delete unnecessary statistics\n",
    "players_df = vert_df.drop([\"Tm\", \"Lg\", \"MP\", \"Age\", \"Pos\", \"FG\", \"FGA\", \"3P\", \"3PA\", \"3P%\", \"2P\", \"2PA\", \"2P%\", \"eFG%\", \\\n",
    "                              \"FT\", \"FTA\", \"FT%\", \"ORB\", \"DRB\", \"TOV\", \"PF\"], axis = 1)\n",
    "\n",
    "players_df"
   ]
  },
  {
   "cell_type": "code",
   "execution_count": 221,
   "metadata": {},
   "outputs": [],
   "source": [
    "#Determine who has the most points per game"
   ]
  },
  {
   "cell_type": "code",
   "execution_count": 222,
   "metadata": {},
   "outputs": [],
   "source": [
    "#Determine who has the most steals per game"
   ]
  },
  {
   "cell_type": "code",
   "execution_count": 223,
   "metadata": {},
   "outputs": [],
   "source": [
    "#Determine who has the most blocks per game"
   ]
  },
  {
   "cell_type": "code",
   "execution_count": 224,
   "metadata": {},
   "outputs": [],
   "source": [
    "#Determine who has the most assists per game"
   ]
  },
  {
   "cell_type": "code",
   "execution_count": 225,
   "metadata": {},
   "outputs": [],
   "source": [
    "#Determine who has the most rebounds per game"
   ]
  },
  {
   "cell_type": "code",
   "execution_count": 226,
   "metadata": {},
   "outputs": [],
   "source": [
    "#Determine who has the highest win percentage"
   ]
  },
  {
   "cell_type": "code",
   "execution_count": 227,
   "metadata": {},
   "outputs": [],
   "source": [
    "#Determine who had the most MVP awards"
   ]
  },
  {
   "cell_type": "code",
   "execution_count": 228,
   "metadata": {},
   "outputs": [],
   "source": [
    "#Determine who had the most championship wins"
   ]
  }
 ],
 "metadata": {
  "kernelspec": {
   "display_name": "Python 3",
   "language": "python",
   "name": "python3"
  },
  "language_info": {
   "codemirror_mode": {
    "name": "ipython",
    "version": 3
   },
   "file_extension": ".py",
   "mimetype": "text/x-python",
   "name": "python",
   "nbconvert_exporter": "python",
   "pygments_lexer": "ipython3",
   "version": "3.8.3"
  }
 },
 "nbformat": 4,
 "nbformat_minor": 4
}
