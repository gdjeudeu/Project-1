{
 "cells": [
  {
   "cell_type": "code",
   "execution_count": 376,
   "metadata": {},
   "outputs": [],
   "source": [
    "import numpy as np\n",
    "import matplotlib.pyplot as plt\n",
    "import pandas as pd\n",
    "import requests\n",
    "import time\n",
    "import json\n",
    "import scipy.stats as st"
   ]
  },
  {
   "cell_type": "code",
   "execution_count": 377,
   "metadata": {},
   "outputs": [],
   "source": [
    "player_list = ['Michael Jordan', 'Kobe Bryant', 'LeBron James', 'Magic Johnson', 'Larry Bird', 'Bill Russell', \n",
    "               'Wilt Chamberlain', 'Kareem Abdul-Jabbar', \"Shaquille O'Neal\", 'Stephen Curry' ]"
   ]
  },
  {
   "cell_type": "code",
   "execution_count": 378,
   "metadata": {},
   "outputs": [],
   "source": [
    "#define the cleaning functions\n",
    "\n",
    "#this function takes the 1 row career stats df from the csv and prepares it for merging\n",
    "def career_cleaner(df, name):\n",
    "    df = df.reset_index(drop = True)\n",
    "    df = df.rename(index = {0 : name})\n",
    "    df = df.transpose()\n",
    "    df.index.name = \"Stats\"\n",
    "    return df"
   ]
  },
  {
   "cell_type": "code",
   "execution_count": 379,
   "metadata": {
    "scrolled": true
   },
   "outputs": [],
   "source": [
    "#import data sets and save the career stats line in each players' df\n",
    "jordan_career = pd.read_csv(r\"csv_files/jordan_career.csv\")\n",
    "jordan_career = jordan_career.iloc[[-4], ]\n",
    "\n",
    "kobe_career = pd.read_csv(r\"csv_files/kobe_career.csv\")\n",
    "kobe_career = kobe_career.iloc[[-1], ]\n",
    "\n",
    "lebron_career = pd.read_csv(r\"csv_files/lebron_career.csv\")\n",
    "lebron_career = lebron_career.iloc[[-5], ]\n",
    "\n",
    "magic_career = pd.read_csv(r\"csv_files/magic_career.csv\")\n",
    "magic_career = magic_career.iloc[[-1], ]\n",
    "\n",
    "bird_career = pd.read_csv(r\"csv_files/bird_career.csv\")\n",
    "bird_career = bird_career.iloc[[-1], ]\n",
    "\n",
    "russell_career = pd.read_csv(r\"csv_files/russell_career.csv\")\n",
    "russell_career = russell_career.iloc[[-1], ]\n",
    "\n",
    "wilt_career = pd.read_csv(r\"csv_files/wilt_career.csv\")\n",
    "wilt_career = wilt_career.iloc[[-5], ]\n",
    "\n",
    "kareem_career = pd.read_csv(r\"csv_files/kareem_career.csv\")\n",
    "kareem_career = kareem_career.iloc[[-4], ]\n",
    "\n",
    "shaq_career = pd.read_csv(r\"csv_files/shaq_career.csv\")\n",
    "shaq_career = shaq_career.iloc[[-8], ]\n",
    "\n",
    "steph_career = pd.read_csv(r\"csv_files/steph_career.csv\")\n",
    "steph_career = steph_career.iloc[[-1], ]"
   ]
  },
  {
   "cell_type": "code",
   "execution_count": 380,
   "metadata": {},
   "outputs": [],
   "source": [
    "#clean functions for merging\n",
    "jordan_career = career_cleaner(jordan_career, \"Jordan\")\n",
    "kobe_career = career_cleaner(kobe_career, \"Kobe\")\n",
    "lebron_career = career_cleaner(lebron_career, \"Lebron\")\n",
    "magic_career = career_cleaner(magic_career, \"Magic\")\n",
    "bird_career = career_cleaner(bird_career, \"Bird\")\n",
    "russell_career = career_cleaner(russell_career, \"Russell\")\n",
    "wilt_career = career_cleaner(wilt_career, \"Wilt\")\n",
    "kareem_career = career_cleaner(kareem_career, \"Kareem\")\n",
    "shaq_career = career_cleaner(shaq_career, \"Shaq\")\n",
    "steph_career = career_cleaner(steph_career, \"Steph\")"
   ]
  },
  {
   "cell_type": "code",
   "execution_count": 381,
   "metadata": {},
   "outputs": [],
   "source": [
    "#merge all career data together\n",
    "vert_df = jordan_career.merge(kobe_career, on = \"Stats\")\n",
    "vert_df = vert_df.merge(lebron_career, on = \"Stats\")\n",
    "vert_df = vert_df.merge(magic_career, on = \"Stats\")\n",
    "vert_df = vert_df.merge(bird_career, on = \"Stats\")\n",
    "vert_df = vert_df.merge(russell_career, on = \"Stats\", how = \"outer\")\n",
    "vert_df = vert_df.merge(wilt_career, on = \"Stats\", how = \"outer\")\n",
    "vert_df = vert_df.merge(kareem_career, on = \"Stats\")\n",
    "vert_df = vert_df.merge(shaq_career, on = \"Stats\")\n",
    "vert_df = vert_df.merge(steph_career, on = \"Stats\")"
   ]
  },
  {
   "cell_type": "code",
   "execution_count": 382,
   "metadata": {},
   "outputs": [],
   "source": [
    "#delete unnecessary statistics\n",
    "vert_df = vert_df.drop([\"Tm\", \"GS\", \"Lg\", \"MP\", \"Age\", \"Pos\", \"FG\", \"FGA\", \"3P\", \"3PA\", \"2P\", \"2PA\", \"2P%\", \"eFG%\", \"FT\", \"FTA\", \"ORB\", \"DRB\", \"TOV\", \"PF\"])"
   ]
  },
  {
   "cell_type": "code",
   "execution_count": 383,
   "metadata": {},
   "outputs": [],
   "source": [
    "#organize the df to have player names as indexes and stats as columns\n",
    "player_df = vert_df.transpose()"
   ]
  },
  {
   "cell_type": "code",
   "execution_count": 384,
   "metadata": {},
   "outputs": [],
   "source": [
    "#Assigning zeros to both Wilt and Russell for their 3 point percentages\n",
    "player_df.loc[\"Russell\", \"3P%\"] = 0\n",
    "player_df.loc[\"Wilt\", \"3P%\"] = 0\n",
    "\n",
    "#Assigning the correct stat of blocks for both Wilt and Russell\n",
    "player_df.loc[\"Russell\", \"BLK\"] = 8.1\n",
    "player_df.loc[\"Wilt\", \"BLK\"] = 8.8\n",
    "\n",
    "player_df.loc[\"Russell\", \"STL\"] = 1.5\n",
    "player_df.loc[\"Wilt\", \"STL\"] = 1.5"
   ]
  },
  {
   "cell_type": "code",
   "execution_count": 385,
   "metadata": {},
   "outputs": [],
   "source": [
    "#Scoreboard\n",
    "scoreboard_df = pd.DataFrame({\n",
    "    \"Players\" : player_list})\n"
   ]
  },
  {
   "cell_type": "code",
   "execution_count": 386,
   "metadata": {},
   "outputs": [],
   "source": [
    "#Determine who has the highest field goal percentage\n",
    "\n",
    "temp = player_df.sort_values(\"FG%\", ascending = False)\n",
    "points = [10, 9, 8, 7, 6, 5, 4, 3, 2, 1]\n",
    "temp[\"FG% PTS\"] = points\n",
    "temp = temp.reset_index()\n",
    "temp = temp.rename(columns = {\"index\": \"Players\"})\n",
    "temp = temp[[\"Players\", \"FG% PTS\"]]\n",
    "scoreboard_df = scoreboard_df.merge(temp, on = \"Players\", how = \"right\")"
   ]
  },
  {
   "cell_type": "code",
   "execution_count": 387,
   "metadata": {},
   "outputs": [],
   "source": [
    "#Determine who has the highest 3-point percentage\n",
    "temp = player_df.sort_values(\"3P%\", ascending = False)\n",
    "points = [10, 9, 8, 7, 6, 5, 4, 3, 2, 1]\n",
    "temp[\"3P% PTS\"] = points\n",
    "temp = temp.reset_index()\n",
    "temp = temp.rename(columns = {\"index\": \"Players\"})\n",
    "temp = temp[[\"Players\", \"3P% PTS\"]]\n",
    "scoreboard_df = scoreboard_df.merge(temp, on = \"Players\", how = \"right\")"
   ]
  },
  {
   "cell_type": "code",
   "execution_count": 388,
   "metadata": {},
   "outputs": [],
   "source": [
    "#Determine who has the highest free throw percentage\n",
    "temp = player_df.sort_values(\"FT%\", ascending = False)\n",
    "points = [10, 9, 8, 7, 6, 5, 4, 3, 2, 1]\n",
    "temp[\"FT% PTS\"] = points\n",
    "temp = temp.reset_index()\n",
    "temp = temp.rename(columns = {\"index\": \"Players\"})\n",
    "temp = temp[[\"Players\", \"FT% PTS\"]]\n",
    "scoreboard_df = scoreboard_df.merge(temp, on = \"Players\", how = \"right\")"
   ]
  },
  {
   "cell_type": "code",
   "execution_count": 389,
   "metadata": {},
   "outputs": [],
   "source": [
    "#Determine who has the most rebounds per game\n",
    "temp = player_df.sort_values(\"TRB\", ascending = False)\n",
    "points = [10, 9, 8, 7, 6, 5, 4, 3, 2, 1]\n",
    "temp[\"TRB PTS\"] = points\n",
    "temp = temp.reset_index()\n",
    "temp = temp.rename(columns = {\"index\": \"Players\"})\n",
    "temp = temp[[\"Players\", \"TRB PTS\"]]\n",
    "scoreboard_df = scoreboard_df.merge(temp, on = \"Players\", how = \"right\")"
   ]
  },
  {
   "cell_type": "code",
   "execution_count": 390,
   "metadata": {},
   "outputs": [],
   "source": [
    "#Determine who has the most assists per game\n",
    "temp = player_df.sort_values(\"AST\", ascending = False)\n",
    "points = [10, 9, 8, 7, 6, 5, 4, 3, 2, 1]\n",
    "temp[\"AST PTS\"] = points\n",
    "temp = temp.reset_index()\n",
    "temp = temp.rename(columns = {\"index\": \"Players\"})\n",
    "temp = temp[[\"Players\", \"AST PTS\"]]\n",
    "scoreboard_df = scoreboard_df.merge(temp, on = \"Players\", how = \"right\")"
   ]
  },
  {
   "cell_type": "code",
   "execution_count": 391,
   "metadata": {},
   "outputs": [],
   "source": [
    "#Determine who has the most steals per game\n",
    "temp = player_df.sort_values(\"STL\", ascending = False)\n",
    "points = [10, 9, 8, 7, 6, 5, 4, 3, 2, 1]\n",
    "temp[\"STL PTS\"] = points\n",
    "temp = temp.reset_index()\n",
    "temp = temp.rename(columns = {\"index\": \"Players\"})\n",
    "temp = temp[[\"Players\", \"STL PTS\"]]\n",
    "scoreboard_df = scoreboard_df.merge(temp, on = \"Players\", how = \"right\")"
   ]
  },
  {
   "cell_type": "code",
   "execution_count": 392,
   "metadata": {},
   "outputs": [],
   "source": [
    "#Determine who has the most blocks per game\n",
    "temp = player_df.sort_values(\"BLK\", ascending = False)\n",
    "points = [10, 9, 8, 7, 6, 5, 4, 3, 2, 1]\n",
    "temp[\"BLK PTS\"] = points\n",
    "temp = temp.reset_index()\n",
    "temp = temp.rename(columns = {\"index\": \"Players\"})\n",
    "temp = temp[[\"Players\", \"BLK PTS\"]]\n",
    "scoreboard_df = scoreboard_df.merge(temp, on = \"Players\", how = \"right\")"
   ]
  },
  {
   "cell_type": "code",
   "execution_count": 393,
   "metadata": {},
   "outputs": [
    {
     "data": {
      "text/html": [
       "<div>\n",
       "<style scoped>\n",
       "    .dataframe tbody tr th:only-of-type {\n",
       "        vertical-align: middle;\n",
       "    }\n",
       "\n",
       "    .dataframe tbody tr th {\n",
       "        vertical-align: top;\n",
       "    }\n",
       "\n",
       "    .dataframe thead th {\n",
       "        text-align: right;\n",
       "    }\n",
       "</style>\n",
       "<table border=\"1\" class=\"dataframe\">\n",
       "  <thead>\n",
       "    <tr style=\"text-align: right;\">\n",
       "      <th></th>\n",
       "      <th>Players</th>\n",
       "      <th>FG% PTS</th>\n",
       "      <th>3P% PTS</th>\n",
       "      <th>FT% PTS</th>\n",
       "      <th>TRB PTS</th>\n",
       "      <th>AST PTS</th>\n",
       "      <th>STL PTS</th>\n",
       "      <th>BLK PTS</th>\n",
       "      <th>PTS PTS</th>\n",
       "    </tr>\n",
       "  </thead>\n",
       "  <tbody>\n",
       "    <tr>\n",
       "      <th>0</th>\n",
       "      <td>Shaq</td>\n",
       "      <td>10</td>\n",
       "      <td>3</td>\n",
       "      <td>2</td>\n",
       "      <td>7</td>\n",
       "      <td>1</td>\n",
       "      <td>1</td>\n",
       "      <td>7</td>\n",
       "      <td>4</td>\n",
       "    </tr>\n",
       "    <tr>\n",
       "      <th>1</th>\n",
       "      <td>Kareem</td>\n",
       "      <td>9</td>\n",
       "      <td>4</td>\n",
       "      <td>4</td>\n",
       "      <td>8</td>\n",
       "      <td>2</td>\n",
       "      <td>2</td>\n",
       "      <td>8</td>\n",
       "      <td>6</td>\n",
       "    </tr>\n",
       "    <tr>\n",
       "      <th>2</th>\n",
       "      <td>Wilt</td>\n",
       "      <td>8</td>\n",
       "      <td>1</td>\n",
       "      <td>1</td>\n",
       "      <td>10</td>\n",
       "      <td>4</td>\n",
       "      <td>4</td>\n",
       "      <td>10</td>\n",
       "      <td>9</td>\n",
       "    </tr>\n",
       "    <tr>\n",
       "      <th>3</th>\n",
       "      <td>Magic</td>\n",
       "      <td>7</td>\n",
       "      <td>5</td>\n",
       "      <td>8</td>\n",
       "      <td>4</td>\n",
       "      <td>10</td>\n",
       "      <td>9</td>\n",
       "      <td>2</td>\n",
       "      <td>2</td>\n",
       "    </tr>\n",
       "    <tr>\n",
       "      <th>4</th>\n",
       "      <td>Lebron</td>\n",
       "      <td>6</td>\n",
       "      <td>8</td>\n",
       "      <td>5</td>\n",
       "      <td>5</td>\n",
       "      <td>9</td>\n",
       "      <td>6</td>\n",
       "      <td>5</td>\n",
       "      <td>8</td>\n",
       "    </tr>\n",
       "    <tr>\n",
       "      <th>5</th>\n",
       "      <td>Jordan</td>\n",
       "      <td>5</td>\n",
       "      <td>6</td>\n",
       "      <td>6</td>\n",
       "      <td>3</td>\n",
       "      <td>6</td>\n",
       "      <td>10</td>\n",
       "      <td>6</td>\n",
       "      <td>10</td>\n",
       "    </tr>\n",
       "    <tr>\n",
       "      <th>6</th>\n",
       "      <td>Bird</td>\n",
       "      <td>4</td>\n",
       "      <td>9</td>\n",
       "      <td>9</td>\n",
       "      <td>6</td>\n",
       "      <td>7</td>\n",
       "      <td>8</td>\n",
       "      <td>4</td>\n",
       "      <td>5</td>\n",
       "    </tr>\n",
       "    <tr>\n",
       "      <th>7</th>\n",
       "      <td>Steph</td>\n",
       "      <td>3</td>\n",
       "      <td>10</td>\n",
       "      <td>10</td>\n",
       "      <td>1</td>\n",
       "      <td>8</td>\n",
       "      <td>7</td>\n",
       "      <td>1</td>\n",
       "      <td>3</td>\n",
       "    </tr>\n",
       "    <tr>\n",
       "      <th>8</th>\n",
       "      <td>Kobe</td>\n",
       "      <td>2</td>\n",
       "      <td>7</td>\n",
       "      <td>7</td>\n",
       "      <td>2</td>\n",
       "      <td>5</td>\n",
       "      <td>3</td>\n",
       "      <td>3</td>\n",
       "      <td>7</td>\n",
       "    </tr>\n",
       "    <tr>\n",
       "      <th>9</th>\n",
       "      <td>Russell</td>\n",
       "      <td>1</td>\n",
       "      <td>2</td>\n",
       "      <td>3</td>\n",
       "      <td>9</td>\n",
       "      <td>3</td>\n",
       "      <td>5</td>\n",
       "      <td>9</td>\n",
       "      <td>1</td>\n",
       "    </tr>\n",
       "  </tbody>\n",
       "</table>\n",
       "</div>"
      ],
      "text/plain": [
       "   Players  FG% PTS  3P% PTS  FT% PTS  TRB PTS  AST PTS  STL PTS  BLK PTS  \\\n",
       "0     Shaq       10        3        2        7        1        1        7   \n",
       "1   Kareem        9        4        4        8        2        2        8   \n",
       "2     Wilt        8        1        1       10        4        4       10   \n",
       "3    Magic        7        5        8        4       10        9        2   \n",
       "4   Lebron        6        8        5        5        9        6        5   \n",
       "5   Jordan        5        6        6        3        6       10        6   \n",
       "6     Bird        4        9        9        6        7        8        4   \n",
       "7    Steph        3       10       10        1        8        7        1   \n",
       "8     Kobe        2        7        7        2        5        3        3   \n",
       "9  Russell        1        2        3        9        3        5        9   \n",
       "\n",
       "   PTS PTS  \n",
       "0        4  \n",
       "1        6  \n",
       "2        9  \n",
       "3        2  \n",
       "4        8  \n",
       "5       10  \n",
       "6        5  \n",
       "7        3  \n",
       "8        7  \n",
       "9        1  "
      ]
     },
     "execution_count": 393,
     "metadata": {},
     "output_type": "execute_result"
    }
   ],
   "source": [
    "#Determine who has the most points per game\n",
    "temp = player_df.sort_values(\"PTS\", ascending = False)\n",
    "points = [10, 9, 8, 7, 6, 5, 4, 3, 2, 1]\n",
    "temp[\"PTS PTS\"] = points\n",
    "temp = temp.reset_index()\n",
    "temp = temp.rename(columns = {\"index\": \"Players\"})\n",
    "temp = temp[[\"Players\", \"PTS PTS\"]]\n",
    "scoreboard_df = scoreboard_df.merge(temp, on = \"Players\", how = \"right\")\n",
    "scoreboard_df"
   ]
  },
  {
   "cell_type": "code",
   "execution_count": 394,
   "metadata": {},
   "outputs": [],
   "source": [
    "#Determine who has the highest win percentage"
   ]
  },
  {
   "cell_type": "code",
   "execution_count": 429,
   "metadata": {},
   "outputs": [
    {
     "data": {
      "text/html": [
       "<div>\n",
       "<style scoped>\n",
       "    .dataframe tbody tr th:only-of-type {\n",
       "        vertical-align: middle;\n",
       "    }\n",
       "\n",
       "    .dataframe tbody tr th {\n",
       "        vertical-align: top;\n",
       "    }\n",
       "\n",
       "    .dataframe thead th {\n",
       "        text-align: right;\n",
       "    }\n",
       "</style>\n",
       "<table border=\"1\" class=\"dataframe\">\n",
       "  <thead>\n",
       "    <tr style=\"text-align: right;\">\n",
       "      <th></th>\n",
       "      <th>Unnamed: 2</th>\n",
       "      <th>Unnamed: 0</th>\n",
       "    </tr>\n",
       "  </thead>\n",
       "  <tbody>\n",
       "    <tr>\n",
       "      <th>1</th>\n",
       "      <td>Bill Russell</td>\n",
       "      <td>5</td>\n",
       "    </tr>\n",
       "    <tr>\n",
       "      <th>15</th>\n",
       "      <td>Kareem Abdul-Jabbar</td>\n",
       "      <td>6</td>\n",
       "    </tr>\n",
       "    <tr>\n",
       "      <th>19</th>\n",
       "      <td>Kobe Bryant</td>\n",
       "      <td>1</td>\n",
       "    </tr>\n",
       "    <tr>\n",
       "      <th>20</th>\n",
       "      <td>Larry Bird</td>\n",
       "      <td>3</td>\n",
       "    </tr>\n",
       "    <tr>\n",
       "      <th>21</th>\n",
       "      <td>LeBron James</td>\n",
       "      <td>4</td>\n",
       "    </tr>\n",
       "    <tr>\n",
       "      <th>22</th>\n",
       "      <td>Magic Johnson</td>\n",
       "      <td>3</td>\n",
       "    </tr>\n",
       "    <tr>\n",
       "      <th>23</th>\n",
       "      <td>Michael Jordan</td>\n",
       "      <td>5</td>\n",
       "    </tr>\n",
       "    <tr>\n",
       "      <th>28</th>\n",
       "      <td>Shaquille O'Neal</td>\n",
       "      <td>1</td>\n",
       "    </tr>\n",
       "    <tr>\n",
       "      <th>29</th>\n",
       "      <td>Stephen Curry</td>\n",
       "      <td>2</td>\n",
       "    </tr>\n",
       "    <tr>\n",
       "      <th>34</th>\n",
       "      <td>Wilt Chamberlain</td>\n",
       "      <td>4</td>\n",
       "    </tr>\n",
       "  </tbody>\n",
       "</table>\n",
       "</div>"
      ],
      "text/plain": [
       "             Unnamed: 2  Unnamed: 0\n",
       "1          Bill Russell           5\n",
       "15  Kareem Abdul-Jabbar           6\n",
       "19          Kobe Bryant           1\n",
       "20           Larry Bird           3\n",
       "21         LeBron James           4\n",
       "22        Magic Johnson           3\n",
       "23       Michael Jordan           5\n",
       "28     Shaquille O'Neal           1\n",
       "29        Stephen Curry           2\n",
       "34     Wilt Chamberlain           4"
      ]
     },
     "execution_count": 429,
     "metadata": {},
     "output_type": "execute_result"
    }
   ],
   "source": [
    "#Determine who had the most MVP awards\n",
    "mvp_df = pd.read_csv(r\"csv_files/mvp_history.csv\")\n",
    "\n",
    "grouped_mvps = mvp_df.groupby(\"Unnamed: 2\").count()\n",
    "grouped_mvps = grouped_mvps.reset_index()\n",
    "grouped_mvps = grouped_mvps[[\"Unnamed: 2\", \"Unnamed: 0\"]]\n",
    "\n",
    "only_ours = grouped_mvps.loc[grouped_mvps[\"Unnamed: 2\"].isin(player_list)]\n",
    "only_ours"
   ]
  },
  {
   "cell_type": "code",
   "execution_count": 396,
   "metadata": {},
   "outputs": [],
   "source": [
    "\n",
    "#Determine who had the most championship wins"
   ]
  },
  {
   "cell_type": "code",
   "execution_count": 397,
   "metadata": {},
   "outputs": [],
   "source": [
    "#Determine who won rookie of the year"
   ]
  },
  {
   "cell_type": "code",
   "execution_count": 398,
   "metadata": {},
   "outputs": [],
   "source": [
    "#Determine who won the most defensive player of the year awards"
   ]
  },
  {
   "cell_type": "code",
   "execution_count": 399,
   "metadata": {},
   "outputs": [],
   "source": [
    "#Determine who has the most all-star appearances"
   ]
  },
  {
   "cell_type": "code",
   "execution_count": 400,
   "metadata": {},
   "outputs": [],
   "source": [
    "#Determine who has the most playoff appearances"
   ]
  },
  {
   "cell_type": "code",
   "execution_count": 401,
   "metadata": {},
   "outputs": [],
   "source": [
    "#Map of markers of location of where each players played"
   ]
  }
 ],
 "metadata": {
  "kernelspec": {
   "display_name": "Python 3",
   "language": "python",
   "name": "python3"
  },
  "language_info": {
   "codemirror_mode": {
    "name": "ipython",
    "version": 3
   },
   "file_extension": ".py",
   "mimetype": "text/x-python",
   "name": "python",
   "nbconvert_exporter": "python",
   "pygments_lexer": "ipython3",
   "version": "3.8.3"
  }
 },
 "nbformat": 4,
 "nbformat_minor": 4
}
